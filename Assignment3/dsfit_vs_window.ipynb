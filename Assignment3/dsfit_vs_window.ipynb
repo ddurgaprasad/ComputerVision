{
 "cells": [
  {
   "cell_type": "markdown",
   "metadata": {},
   "source": [
    "**Block matching**\n",
    "\n",
    "1. Use constraints on a small number of pixels surrounding the pixel of interest.\n",
    "1. Estimate disparity at a point by comparing a small region about that point with \n",
    " congruent regions extracted from the other image\n",
    "1. Sensitive to depth discontinuities and uniform regions\n",
    "\n",
    "**Dense SIFT**\n",
    "1. Dense keypoints are generated  fed to SIFT to detect descriptors \n",
    "1. limit the correspondence search to reliable features in the images\n",
    " \n"
   ]
  },
  {
   "cell_type": "code",
   "execution_count": null,
   "metadata": {
    "collapsed": true
   },
   "outputs": [],
   "source": []
  }
 ],
 "metadata": {
  "kernelspec": {
   "display_name": "Python 3",
   "language": "python",
   "name": "python3"
  },
  "language_info": {
   "codemirror_mode": {
    "name": "ipython",
    "version": 3
   },
   "file_extension": ".py",
   "mimetype": "text/x-python",
   "name": "python",
   "nbconvert_exporter": "python",
   "pygments_lexer": "ipython3",
   "version": "3.6.0"
  }
 },
 "nbformat": 4,
 "nbformat_minor": 2
}
